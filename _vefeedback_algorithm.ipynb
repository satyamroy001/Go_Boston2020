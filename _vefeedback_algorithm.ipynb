{
  "nbformat": 4,
  "nbformat_minor": 0,
  "metadata": {
    "colab": {
      "name": "-vefeedback algorithm.ipynb",
      "provenance": [],
      "collapsed_sections": [],
      "include_colab_link": true
    },
    "kernelspec": {
      "name": "python3",
      "display_name": "Python 3"
    }
  },
  "cells": [
    {
      "cell_type": "markdown",
      "metadata": {
        "id": "view-in-github",
        "colab_type": "text"
      },
      "source": [
        "<a href=\"https://colab.research.google.com/github/satyamroy001/Go_Boston2020/blob/master/_vefeedback_algorithm.ipynb\" target=\"_parent\"><img src=\"https://colab.research.google.com/assets/colab-badge.svg\" alt=\"Open In Colab\"/></a>"
      ]
    },
    {
      "cell_type": "markdown",
      "metadata": {
        "id": "fuTTbn0bQFSw"
      },
      "source": [
        "# **NEGATIVE FEEDBACK ALGORITHM**\n",
        "**Ever you thought do Electronics or Electrical have only to deal with feedbacks circuits? NO, all the fields are related just you have to know how to relate them.**\n",
        "<br>\n",
        "It is negative feedback system as the output is decreasing each time by the input provided due to the feedback path"
      ]
    },
    {
      "cell_type": "markdown",
      "metadata": {
        "id": "WTn-8T4oWAc3"
      },
      "source": [
        "![-ve feedback](https://i.stack.imgur.com/LlgGP.png)"
      ]
    },
    {
      "cell_type": "code",
      "metadata": {
        "id": "V_UXn9EWOPJL"
      },
      "source": [
        "import math"
      ],
      "execution_count": 1,
      "outputs": []
    },
    {
      "cell_type": "code",
      "metadata": {
        "id": "D2LWo0t9sr-u"
      },
      "source": [
        "def squareroot(x):\n",
        "  a=0\n",
        "  g1=int(input(\"enter your 1st guess ----------------->\"))\n",
        "  #randomly choosen no.of iterations, for getting correct result increase no.of iterations.\n",
        "  for a in range(a,8,1):\n",
        "    g2= (g1+(x/g1))/2\n",
        "    #negative feedback here \n",
        "    g1=g2\n",
        "  result= math.floor(g2)\n",
        "  return result"
      ],
      "execution_count": 4,
      "outputs": []
    },
    {
      "cell_type": "code",
      "metadata": {
        "id": "5vqHNdqSN72K",
        "colab": {
          "base_uri": "https://localhost:8080/"
        },
        "outputId": "d9819365-2d73-444d-f401-f5c5c768eacb"
      },
      "source": [
        "squareroot(81)"
      ],
      "execution_count": 5,
      "outputs": [
        {
          "name": "stdout",
          "output_type": "stream",
          "text": [
            "enter your 1st guess ----------------->100\n"
          ]
        },
        {
          "output_type": "execute_result",
          "data": {
            "text/plain": [
              "9"
            ]
          },
          "metadata": {},
          "execution_count": 5
        }
      ]
    }
  ]
}